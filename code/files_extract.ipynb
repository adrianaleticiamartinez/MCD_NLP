{
 "cells": [
  {
   "cell_type": "code",
   "execution_count": 32,
   "metadata": {},
   "outputs": [],
   "source": [
    "import os\n",
    "import shutil"
   ]
  },
  {
   "cell_type": "code",
   "execution_count": 33,
   "metadata": {},
   "outputs": [],
   "source": [
    "parent_folder = '/Users/adrianamartinez/Downloads/Subtitulos/ACTION'"
   ]
  },
  {
   "cell_type": "code",
   "execution_count": 34,
   "metadata": {},
   "outputs": [],
   "source": [
    "new_folder = '/Users/adrianamartinez/Documents/NLP/project/datasets/ACTION'"
   ]
  },
  {
   "cell_type": "code",
   "execution_count": 35,
   "metadata": {},
   "outputs": [],
   "source": [
    "# Función para mover archivos .srt a la carpeta padre\n",
    "def move_srt_files(parent_folder):\n",
    "    # Recorre todas las subcarpetas\n",
    "    for root, dirs, files in os.walk(parent_folder):\n",
    "        for file in files:\n",
    "            if file.endswith('.srt'):\n",
    "                # Ruta completa del archivo\n",
    "                file_path = os.path.join(root, file)\n",
    "                # Ruta de destino en la carpeta padre\n",
    "                destination_path = os.path.join(new_folder, file)\n",
    "                # Mueve el archivo a la carpeta padre\n",
    "                shutil.move(file_path, destination_path)\n",
    "                print(f'Movido: {file_path} -> {destination_path}')"
   ]
  },
  {
   "cell_type": "code",
   "execution_count": 36,
   "metadata": {},
   "outputs": [
    {
     "name": "stdout",
     "output_type": "stream",
     "text": [
      "Movido: /Users/adrianamartinez/Downloads/Subtitulos/ACTION/8290494 2/Last Hero In China (1993).es.srt -> /Users/adrianamartinez/Documents/NLP/project/datasets/ACTION/Last Hero In China (1993).es.srt\n",
      "Movido: /Users/adrianamartinez/Downloads/Subtitulos/ACTION/8293119 2/The Chronicles Of Narnia Prince Caspian 2008.BDRip.23,976.lat.2-29-58.srt -> /Users/adrianamartinez/Documents/NLP/project/datasets/ACTION/The Chronicles Of Narnia Prince Caspian 2008.BDRip.23,976.lat.2-29-58.srt\n",
      "Movido: /Users/adrianamartinez/Downloads/Subtitulos/ACTION/8277388 2/Once Upon a Time in China and America 1997.es.srt -> /Users/adrianamartinez/Documents/NLP/project/datasets/ACTION/Once Upon a Time in China and America 1997.es.srt\n",
      "Movido: /Users/adrianamartinez/Downloads/Subtitulos/ACTION/8291819 2/Tai-Chi.Master(1993).srt -> /Users/adrianamartinez/Documents/NLP/project/datasets/ACTION/Tai-Chi.Master(1993).srt\n",
      "Movido: /Users/adrianamartinez/Downloads/Subtitulos/ACTION/8285622 2/T02-E33 - The Sandman Cometh.srt -> /Users/adrianamartinez/Documents/NLP/project/datasets/ACTION/T02-E33 - The Sandman Cometh.srt\n",
      "Movido: /Users/adrianamartinez/Downloads/Subtitulos/ACTION/8295154 2/The Originals S01E03_track4_spa.srt -> /Users/adrianamartinez/Documents/NLP/project/datasets/ACTION/The Originals S01E03_track4_spa.srt\n",
      "Movido: /Users/adrianamartinez/Downloads/Subtitulos/ACTION/8277344 2/High Risk aka Meltdown (1995).esp.srt -> /Users/adrianamartinez/Documents/NLP/project/datasets/ACTION/High Risk aka Meltdown (1995).esp.srt\n",
      "Movido: /Users/adrianamartinez/Downloads/Subtitulos/ACTION/8277361 2/Once Upon a Time in China 1991.es.srt -> /Users/adrianamartinez/Documents/NLP/project/datasets/ACTION/Once Upon a Time in China 1991.es.srt\n",
      "Movido: /Users/adrianamartinez/Downloads/Subtitulos/ACTION/8292032 2/terminator.2.judgement.day.1991.directors.cut.remastered.1080p.bluray.x264-justwatch.spa.srt -> /Users/adrianamartinez/Documents/NLP/project/datasets/ACTION/terminator.2.judgement.day.1991.directors.cut.remastered.1080p.bluray.x264-justwatch.spa.srt\n",
      "Movido: /Users/adrianamartinez/Downloads/Subtitulos/ACTION/8292132 2/Dragonheart 1996.HDDVDRip.23,976.lat.1-42-59.srt -> /Users/adrianamartinez/Documents/NLP/project/datasets/ACTION/Dragonheart 1996.HDDVDRip.23,976.lat.1-42-59.srt\n",
      "Movido: /Users/adrianamartinez/Downloads/Subtitulos/ACTION/8271681 2/The.Bare-Footed.Kid.1993.1080p.NF.WEB-DL.DDP2.0.x264-TOMMY_spa.srt -> /Users/adrianamartinez/Documents/NLP/project/datasets/ACTION/The.Bare-Footed.Kid.1993.1080p.NF.WEB-DL.DDP2.0.x264-TOMMY_spa.srt\n",
      "Movido: /Users/adrianamartinez/Downloads/Subtitulos/ACTION/8297799 2/Kickboxer.2.The.Road.Back.1991.720p.WEBRip.x264.AAC-[YTS.MX]_spa.srt -> /Users/adrianamartinez/Documents/NLP/project/datasets/ACTION/Kickboxer.2.The.Road.Back.1991.720p.WEBRip.x264.AAC-[YTS.MX]_spa.srt\n",
      "Movido: /Users/adrianamartinez/Downloads/Subtitulos/ACTION/8295165 2/The Originals S01E12_track4_spa.srt -> /Users/adrianamartinez/Documents/NLP/project/datasets/ACTION/The Originals S01E12_track4_spa.srt\n",
      "Movido: /Users/adrianamartinez/Downloads/Subtitulos/ACTION/8299057 2/Il.giustiziere.della.strada.AKA.Exterminators.of.the.Year.3000.1983.720p.BluRay.AAC2.0.COMM.x264-KES.es.srt -> /Users/adrianamartinez/Documents/NLP/project/datasets/ACTION/Il.giustiziere.della.strada.AKA.Exterminators.of.the.Year.3000.1983.720p.BluRay.AAC2.0.COMM.x264-KES.es.srt\n",
      "Movido: /Users/adrianamartinez/Downloads/Subtitulos/ACTION/8291871 2/Who.Am.I(1998).srt -> /Users/adrianamartinez/Documents/NLP/project/datasets/ACTION/Who.Am.I(1998).srt\n",
      "Movido: /Users/adrianamartinez/Downloads/Subtitulos/ACTION/8295159 2/The Originals S01E07_track4_spa.srt -> /Users/adrianamartinez/Documents/NLP/project/datasets/ACTION/The Originals S01E07_track4_spa.srt\n",
      "Movido: /Users/adrianamartinez/Downloads/Subtitulos/ACTION/8295172 2/The Originals S01E17_track4_spa.srt -> /Users/adrianamartinez/Documents/NLP/project/datasets/ACTION/The Originals S01E17_track4_spa.srt\n",
      "Movido: /Users/adrianamartinez/Downloads/Subtitulos/ACTION/8277385 2/Once.Upon.A.Time.In.China.3.1993.es.srt -> /Users/adrianamartinez/Documents/NLP/project/datasets/ACTION/Once.Upon.A.Time.In.China.3.1993.es.srt\n",
      "Movido: /Users/adrianamartinez/Downloads/Subtitulos/ACTION/8280677 2/The.Matrix.Revolutions.2003.REMASTERED.1080p.BluRay.x265-RARBG.srt -> /Users/adrianamartinez/Documents/NLP/project/datasets/ACTION/The.Matrix.Revolutions.2003.REMASTERED.1080p.BluRay.x265-RARBG.srt\n",
      "Movido: /Users/adrianamartinez/Downloads/Subtitulos/ACTION/8281813 2/Throne.Of.Blood.1957.720p.BluRay.x264-[YTS.AM].srt -> /Users/adrianamartinez/Documents/NLP/project/datasets/ACTION/Throne.Of.Blood.1957.720p.BluRay.x264-[YTS.AM].srt\n",
      "Movido: /Users/adrianamartinez/Downloads/Subtitulos/ACTION/8285625 2/T02-E36 - The Mad Hatter Runs Afoul.srt -> /Users/adrianamartinez/Documents/NLP/project/datasets/ACTION/T02-E36 - The Mad Hatter Runs Afoul.srt\n",
      "Movido: /Users/adrianamartinez/Downloads/Subtitulos/ACTION/8295157 2/The Originals S01E05_track4_spa.srt -> /Users/adrianamartinez/Documents/NLP/project/datasets/ACTION/The Originals S01E05_track4_spa.srt\n",
      "Movido: /Users/adrianamartinez/Downloads/Subtitulos/ACTION/8295168 2/The Originals S01E15_track4_spa.srt -> /Users/adrianamartinez/Documents/NLP/project/datasets/ACTION/The Originals S01E15_track4_spa.srt\n",
      "Movido: /Users/adrianamartinez/Downloads/Subtitulos/ACTION/8292335 2/Sonatine 1993.DVDRip.23,976.lat.1-33-57.srt -> /Users/adrianamartinez/Documents/NLP/project/datasets/ACTION/Sonatine 1993.DVDRip.23,976.lat.1-33-57.srt\n",
      "Movido: /Users/adrianamartinez/Downloads/Subtitulos/ACTION/8295162 2/The Originals S01E09_track4_spa.srt -> /Users/adrianamartinez/Documents/NLP/project/datasets/ACTION/The Originals S01E09_track4_spa.srt\n",
      "Movido: /Users/adrianamartinez/Downloads/Subtitulos/ACTION/8277973 2/Black Sunday (Frankenheimer, John 1977)_WEBRip.1080p.x264.AAC5.1_SPA.srt -> /Users/adrianamartinez/Documents/NLP/project/datasets/ACTION/Black Sunday (Frankenheimer, John 1977)_WEBRip.1080p.x264.AAC5.1_SPA.srt\n",
      "Movido: /Users/adrianamartinez/Downloads/Subtitulos/ACTION/8295166 2/The Originals S01E13_track4_spa.srt -> /Users/adrianamartinez/Documents/NLP/project/datasets/ACTION/The Originals S01E13_track4_spa.srt\n",
      "Movido: /Users/adrianamartinez/Downloads/Subtitulos/ACTION/8298873 2/Inferno.1999.720p.BluRay.H264.AAC-RARBG.srt -> /Users/adrianamartinez/Documents/NLP/project/datasets/ACTION/Inferno.1999.720p.BluRay.H264.AAC-RARBG.srt\n",
      "Movido: /Users/adrianamartinez/Downloads/Subtitulos/ACTION/8295158 2/The Originals S01E06_track4_spa.srt -> /Users/adrianamartinez/Documents/NLP/project/datasets/ACTION/The Originals S01E06_track4_spa.srt\n",
      "Movido: /Users/adrianamartinez/Downloads/Subtitulos/ACTION/8285620 2/T02-E32 - The Duo Is Slumming.srt -> /Users/adrianamartinez/Documents/NLP/project/datasets/ACTION/T02-E32 - The Duo Is Slumming.srt\n",
      "Movido: /Users/adrianamartinez/Downloads/Subtitulos/ACTION/8289950 2/Blindspot - 01x22 - Love a Rebel Death Will Render ES.srt -> /Users/adrianamartinez/Documents/NLP/project/datasets/ACTION/Blindspot - 01x22 - Love a Rebel Death Will Render ES.srt\n",
      "Movido: /Users/adrianamartinez/Downloads/Subtitulos/ACTION/8278916 2/The Fearless Hyena 1979 Xiao quan guai zhao.es.srt -> /Users/adrianamartinez/Documents/NLP/project/datasets/ACTION/The Fearless Hyena 1979 Xiao quan guai zhao.es.srt\n",
      "Movido: /Users/adrianamartinez/Downloads/Subtitulos/ACTION/8290496 2/Last.Hero.In.China.1993.es.srt -> /Users/adrianamartinez/Documents/NLP/project/datasets/ACTION/Last.Hero.In.China.1993.es.srt\n",
      "Movido: /Users/adrianamartinez/Downloads/Subtitulos/ACTION/8295156 2/The Originals S01E04_track4_spa.srt -> /Users/adrianamartinez/Documents/NLP/project/datasets/ACTION/The Originals S01E04_track4_spa.srt\n",
      "Movido: /Users/adrianamartinez/Downloads/Subtitulos/ACTION/8281894 2/The.Fearless.Hyena.1979.CHINESE.720p.BluRay.H264.AAC-VXT.es.srt -> /Users/adrianamartinez/Documents/NLP/project/datasets/ACTION/The.Fearless.Hyena.1979.CHINESE.720p.BluRay.H264.AAC-VXT.es.srt\n",
      "Movido: /Users/adrianamartinez/Downloads/Subtitulos/ACTION/8277208 2/The Master (1989).esp.srt -> /Users/adrianamartinez/Documents/NLP/project/datasets/ACTION/The Master (1989).esp.srt\n",
      "Movido: /Users/adrianamartinez/Downloads/Subtitulos/ACTION/8285624 2/T02-E35 - The Contaminated Cowl.srt -> /Users/adrianamartinez/Documents/NLP/project/datasets/ACTION/T02-E35 - The Contaminated Cowl.srt\n",
      "Movido: /Users/adrianamartinez/Downloads/Subtitulos/ACTION/8291065 2/Rambo.III.1988.REMASTERED.1080p.BluRay.H264.AAC-RARBG.srt -> /Users/adrianamartinez/Documents/NLP/project/datasets/ACTION/Rambo.III.1988.REMASTERED.1080p.BluRay.H264.AAC-RARBG.srt\n",
      "Movido: /Users/adrianamartinez/Downloads/Subtitulos/ACTION/8295163 2/The Originals S01E10_track4_spa.srt -> /Users/adrianamartinez/Documents/NLP/project/datasets/ACTION/The Originals S01E10_track4_spa.srt\n",
      "Movido: /Users/adrianamartinez/Downloads/Subtitulos/ACTION/8295146 2/The Originals S01E02_track4_spa.srt -> /Users/adrianamartinez/Documents/NLP/project/datasets/ACTION/The Originals S01E02_track4_spa.srt\n",
      "Movido: /Users/adrianamartinez/Downloads/Subtitulos/ACTION/8277294 2/Fist of Legend 1994.esp.srt -> /Users/adrianamartinez/Documents/NLP/project/datasets/ACTION/Fist of Legend 1994.esp.srt\n",
      "Movido: /Users/adrianamartinez/Downloads/Subtitulos/ACTION/8281806 2/Yojimbo.1961.720p.BluRay.x264.AAC-[YTS.MX].srt -> /Users/adrianamartinez/Documents/NLP/project/datasets/ACTION/Yojimbo.1961.720p.BluRay.x264.AAC-[YTS.MX].srt\n",
      "Movido: /Users/adrianamartinez/Downloads/Subtitulos/ACTION/8295167 2/The Originals S01E14_track4_spa.srt -> /Users/adrianamartinez/Documents/NLP/project/datasets/ACTION/The Originals S01E14_track4_spa.srt\n",
      "Movido: /Users/adrianamartinez/Downloads/Subtitulos/ACTION/8277383 2/Once Upon a Time in China 2 1992.es.srt -> /Users/adrianamartinez/Documents/NLP/project/datasets/ACTION/Once Upon a Time in China 2 1992.es.srt\n",
      "Movido: /Users/adrianamartinez/Downloads/Subtitulos/ACTION/8291095 2/Karan Arjun 1995 Hindi 720p DvDRip x264 AC3.Hon3y.srt -> /Users/adrianamartinez/Documents/NLP/project/datasets/ACTION/Karan Arjun 1995 Hindi 720p DvDRip x264 AC3.Hon3y.srt\n",
      "Movido: /Users/adrianamartinez/Downloads/Subtitulos/ACTION/8285623 2/T02-E34 - The Catwoman Goeth.srt -> /Users/adrianamartinez/Documents/NLP/project/datasets/ACTION/T02-E34 - The Catwoman Goeth.srt\n",
      "Movido: /Users/adrianamartinez/Downloads/Subtitulos/ACTION/8295170 2/The Originals S01E16_track4_spa.srt -> /Users/adrianamartinez/Documents/NLP/project/datasets/ACTION/The Originals S01E16_track4_spa.srt\n",
      "Movido: /Users/adrianamartinez/Downloads/Subtitulos/ACTION/8293148 2/The League of Extraordinary Gentlemen 2003.BDRip.23,976.lat.1-50-06.srt -> /Users/adrianamartinez/Documents/NLP/project/datasets/ACTION/The League of Extraordinary Gentlemen 2003.BDRip.23,976.lat.1-50-06.srt\n",
      "Movido: /Users/adrianamartinez/Downloads/Subtitulos/ACTION/8293123 2/Willow 1988.BDRip.23,976.lat.2-05-55.srt -> /Users/adrianamartinez/Documents/NLP/project/datasets/ACTION/Willow 1988.BDRip.23,976.lat.2-05-55.srt\n",
      "Movido: /Users/adrianamartinez/Downloads/Subtitulos/ACTION/8295145 2/The Originals S01E01_track4_spa.srt -> /Users/adrianamartinez/Documents/NLP/project/datasets/ACTION/The Originals S01E01_track4_spa.srt\n",
      "Movido: /Users/adrianamartinez/Downloads/Subtitulos/ACTION/8279071 2/Dragon Ball Kai 82 - El despertar de un superpoder. Trunks ha superado a su padre.srt -> /Users/adrianamartinez/Documents/NLP/project/datasets/ACTION/Dragon Ball Kai 82 - El despertar de un superpoder. Trunks ha superado a su padre.srt\n",
      "Movido: /Users/adrianamartinez/Downloads/Subtitulos/ACTION/8269858 2/Young.Tiger.1973.1080p.NF.WEB-DL.DDP2.0.x264-ExREN_spa_la.srt -> /Users/adrianamartinez/Documents/NLP/project/datasets/ACTION/Young.Tiger.1973.1080p.NF.WEB-DL.DDP2.0.x264-ExREN_spa_la.srt\n",
      "Movido: /Users/adrianamartinez/Downloads/Subtitulos/ACTION/8295160 2/The Originals S01E08_track4_spa.srt -> /Users/adrianamartinez/Documents/NLP/project/datasets/ACTION/The Originals S01E08_track4_spa.srt\n",
      "Movido: /Users/adrianamartinez/Downloads/Subtitulos/ACTION/8285618 2/T02-E31 - The Puzzles Are Coming.srt -> /Users/adrianamartinez/Documents/NLP/project/datasets/ACTION/T02-E31 - The Puzzles Are Coming.srt\n",
      "Movido: /Users/adrianamartinez/Downloads/Subtitulos/ACTION/8297771 2/Double.Team.1997.720p.BluRay.x264-[YTS.AG].srt -> /Users/adrianamartinez/Documents/NLP/project/datasets/ACTION/Double.Team.1997.720p.BluRay.x264-[YTS.AG].srt\n",
      "Movido: /Users/adrianamartinez/Downloads/Subtitulos/ACTION/8293169 2/Zathura A Space Adventure 2005.BDRip.23,976.lat.1-41-19.srt -> /Users/adrianamartinez/Documents/NLP/project/datasets/ACTION/Zathura A Space Adventure 2005.BDRip.23,976.lat.1-41-19.srt\n",
      "Movido: /Users/adrianamartinez/Downloads/Subtitulos/ACTION/8295164 2/The Originals S01E11_track4_spa.srt -> /Users/adrianamartinez/Documents/NLP/project/datasets/ACTION/The Originals S01E11_track4_spa.srt\n",
      "Movido: /Users/adrianamartinez/Downloads/Subtitulos/ACTION/8281883 2/Operation.Condor.1991.RESTORED.CHINESE.720p.BluRay.H264.AAC-VXT.es.srt -> /Users/adrianamartinez/Documents/NLP/project/datasets/ACTION/Operation.Condor.1991.RESTORED.CHINESE.720p.BluRay.H264.AAC-VXT.es.srt\n",
      "Movido: /Users/adrianamartinez/Downloads/Subtitulos/ACTION/8288991 2/El heroe del rio.srt -> /Users/adrianamartinez/Documents/NLP/project/datasets/ACTION/El heroe del rio.srt\n"
     ]
    }
   ],
   "source": [
    "move_srt_files(parent_folder)"
   ]
  }
 ],
 "metadata": {
  "kernelspec": {
   "display_name": "Python 3",
   "language": "python",
   "name": "python3"
  },
  "language_info": {
   "codemirror_mode": {
    "name": "ipython",
    "version": 3
   },
   "file_extension": ".py",
   "mimetype": "text/x-python",
   "name": "python",
   "nbconvert_exporter": "python",
   "pygments_lexer": "ipython3",
   "version": "3.11.8"
  }
 },
 "nbformat": 4,
 "nbformat_minor": 2
}
